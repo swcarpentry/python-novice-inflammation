{
 "cells": [
  {
   "cell_type": "markdown",
   "metadata": {},
   "source": [
    "> ## Learning Objectives {.objectives}\n",
    ">\n",
    "> *   Explain what an assertion is.\n",
    "> *   Add assertions that check the program's state is correct.\n",
    "> *   Correctly add precondition and postcondition assertions to functions.\n",
    "> *   Explain what test-driven development is, and use it when creating new functions.\n",
    "> *   Explain why variables should be initialized using actual data values rather than arbitrary constants.\n",
    "\n",
    "Our previous lessons have introduced the basic tools of programming:\n",
    "variables and lists,\n",
    "file I/O,\n",
    "loops,\n",
    "conditionals,\n",
    "and functions.\n",
    "What they *haven't* done is show us how to tell\n",
    "whether a program is getting the right answer,\n",
    "and how to tell if it's *still* getting the right answer\n",
    "as we make changes to it.\n",
    "\n",
    "To achieve that,\n",
    "we need to:\n",
    "\n",
    "*   Write programs that check their own operation.\n",
    "*   Write and run tests for widely-used functions.\n",
    "*   Make sure we know what \"correct\" actually means.\n",
    "\n",
    "The good news is,\n",
    "doing these things will speed up our programming,\n",
    "not slow it down.\n",
    "As in real carpentry --- the kind done with lumber --- the time saved\n",
    "by measuring carefully before cutting a piece of wood\n",
    "is much greater than the time that measuring takes.\n",
    "\n",
    "## Assertions\n",
    "\n",
    "The first step toward getting the right answers from our programs\n",
    "is to assume that mistakes *will* happen\n",
    "and to guard against them.\n",
    "This is called [defensive programming](reference.html#defensive-programming),\n",
    "and the most common way to do it is to add [assertions](reference.html#assertion) to our code\n",
    "so that it checks itself as it runs.\n",
    "An assertion is simply a statement that something must be true at a certain point in a program.\n",
    "When Python sees one,\n",
    "it evaluates the assertion's condition.\n",
    "If it's true,\n",
    "Python does nothing,\n",
    "but if it's false,\n",
    "Python halts the program immediately\n",
    "and prints the error message if one is provided.\n",
    "For example,\n",
    "this piece of code halts as soon as the loop encounters a value that isn't positive:"
   ]
  },
  {
   "cell_type": "code",
   "execution_count": null,
   "metadata": {
    "collapsed": false
   },
   "outputs": [],
   "source": [
    "numbers = [1.5, 2.3, 0.7, -0.001, 4.4]\n",
    "total = 0.0\n",
    "for n in numbers:\n",
    "    assert n > 0.0, 'Data should only contain positive values'\n",
    "    total += n\n",
    "print('total is:', total)"
   ]
  },
  {
   "cell_type": "markdown",
   "metadata": {},
   "source": [
    "Programs like the Firefox browser are full of assertions:\n",
    "10-20% of the code they contain\n",
    "are there to check that the other 80-90% are working correctly.\n",
    "Broadly speaking,\n",
    "assertions fall into three categories:\n",
    "\n",
    "*   A [precondition](reference.html#precondition) is something that must be true at the start of a function in order for it to work correctly.\n",
    "\n",
    "*   A [postcondition](reference.html#postcondition) is something that the function guarantees is true when it finishes.\n",
    "\n",
    "*   An [invariant](reference.html#invariant) is something that is always true at a particular point inside a piece of code.\n",
    "\n",
    "For example,\n",
    "suppose we are representing rectangles using a [tuple](reference.html#tuple) of four coordinates `(x0, y0, x1, y1)`,\n",
    "representing the lower left and upper right corners of the rectangle.\n",
    "In order to do some calculations,\n",
    "we need to normalize the rectangle so that the lower left corner is at the origin\n",
    "and the longest side is 1.0 units long.\n",
    "This function does that,\n",
    "but checks that its input is correctly formatted and that its result makes sense:"
   ]
  },
  {
   "cell_type": "code",
   "execution_count": null,
   "metadata": {
    "collapsed": true
   },
   "outputs": [],
   "source": [
    "def normalize_rectangle(rect):\n",
    "    '''Normalizes a rectangle so that it is at the origin and 1.0 units long on its longest axis.'''\n",
    "    assert len(rect) == 4, 'Rectangles must contain 4 coordinates'\n",
    "    x0, y0, x1, y1 = rect\n",
    "    assert x0 < x1, 'Invalid X coordinates'\n",
    "    assert y0 < y1, 'Invalid Y coordinates'\n",
    "\n",
    "    dx = x1 - x0\n",
    "    dy = y1 - y0\n",
    "    if dx > dy:\n",
    "        scaled = float(dx) / dy\n",
    "        upper_x, upper_y = 1.0, scaled\n",
    "    else:\n",
    "        scaled = float(dx) / dy\n",
    "        upper_x, upper_y = scaled, 1.0\n",
    "\n",
    "    assert 0 < upper_x <= 1.0, 'Calculated upper X coordinate invalid'\n",
    "    assert 0 < upper_y <= 1.0, 'Calculated upper Y coordinate invalid'\n",
    "\n",
    "    return (0, 0, upper_x, upper_y)"
   ]
  },
  {
   "cell_type": "markdown",
   "metadata": {},
   "source": [
    "The preconditions on lines 2, 4, and 5 catch invalid inputs:"
   ]
  },
  {
   "cell_type": "code",
   "execution_count": null,
   "metadata": {
    "collapsed": true
   },
   "outputs": [],
   "source": [
    "print(normalize_rectangle( (0.0, 1.0, 2.0) )) # missing the fourth coordinate"
   ]
  },
  {
   "cell_type": "code",
   "execution_count": null,
   "metadata": {
    "collapsed": true
   },
   "outputs": [],
   "source": [
    "print(normalize_rectangle( (4.0, 2.0, 1.0, 5.0) )) # X axis inverted"
   ]
  },
  {
   "cell_type": "markdown",
   "metadata": {},
   "source": [
    "The post-conditions help us catch bugs by telling us when our calculations cannot have been correct.\n",
    "For example,\n",
    "if we normalize a rectangle that is taller than it is wide everything seems OK:"
   ]
  },
  {
   "cell_type": "code",
   "execution_count": null,
   "metadata": {
    "collapsed": true
   },
   "outputs": [],
   "source": [
    "print(normalize_rectangle( (0.0, 0.0, 1.0, 5.0) ))"
   ]
  },
  {
   "cell_type": "markdown",
   "metadata": {},
   "source": [
    "but if we normalize one that's wider than it is tall,\n",
    "the assertion is triggered:"
   ]
  },
  {
   "cell_type": "code",
   "execution_count": null,
   "metadata": {
    "collapsed": true
   },
   "outputs": [],
   "source": [
    "print(normalize_rectangle( (0.0, 0.0, 5.0, 1.0) ))"
   ]
  },
  {
   "cell_type": "markdown",
   "metadata": {},
   "source": [
    "Re-reading our function,\n",
    "we realize that line 10 should divide `dy` by `dx` rather than `dx` by `dy`.\n",
    "(You can display line numbers by typing Ctrl-M, then L.)\n",
    "If we had left out the assertion at the end of the function,\n",
    "we would have created and returned something that had the right shape as a valid answer,\n",
    "but wasn't.\n",
    "Detecting and debugging that would almost certainly have taken more time in the long run\n",
    "than writing the assertion.\n",
    "\n",
    "But assertions aren't just about catching errors:\n",
    "they also help people understand programs.\n",
    "Each assertion gives the person reading the program\n",
    "a chance to check (consciously or otherwise)\n",
    "that their understanding matches what the code is doing.\n",
    "\n",
    "Most good programmers follow two rules when adding assertions to their code.\n",
    "The first is, *fail early, fail often*.\n",
    "The greater the distance between when and where an error occurs and when it's noticed,\n",
    "the harder the error will be to debug,\n",
    "so good code catches mistakes as early as possible.\n",
    "\n",
    "The second rule is, *turn bugs into assertions or tests*.\n",
    "Whenever you fix a bug, write an assertion that catches the mistake\n",
    "should you make it again.\n",
    "If you made a mistake in a piece of code,\n",
    "the odds are good that you have made other mistakes nearby,\n",
    "or will make the same mistake (or a related one)\n",
    "the next time you change it.\n",
    "Writing assertions to check that you haven't [regressed](reference.html#regression)\n",
    "(i.e., haven't re-introduced an old problem)\n",
    "can save a lot of time in the long run,\n",
    "and helps to warn people who are reading the code\n",
    "(including your future self)\n",
    "that this bit is tricky.\n",
    "\n",
    "## Test-Driven Development\n",
    "\n",
    "An assertion checks that something is true at a particular point in the program.\n",
    "The next step is to check the overall behavior of a piece of code,\n",
    "i.e.,\n",
    "to make sure that it produces the right output when it's given a particular input.\n",
    "For example,\n",
    "suppose we need to find where two or more time series overlap.\n",
    "The range of each time series is represented as a pair of numbers,\n",
    "which are the time the interval started and ended.\n",
    "The output is the largest range that they all include:\n",
    "\n",
    "![Overlapping Ranges](fig/python-overlapping-ranges.svg)\\\n",
    "\n",
    "Most novice programmers would solve this problem like this:\n",
    "\n",
    "1.  Write a function `range_overlap`.\n",
    "2.  Call it interactively on two or three different inputs.\n",
    "3.  If it produces the wrong answer, fix the function and re-run that test.\n",
    "\n",
    "This clearly works --- after all, thousands of scientists are doing it right now --- but\n",
    "there's a better way:\n",
    "\n",
    "1.  Write a short function for each test.\n",
    "2.  Write a `range_overlap` function that should pass those tests.\n",
    "3.  If `range_overlap` produces any wrong answers, fix it and re-run the test functions.\n",
    "\n",
    "Writing the tests *before* writing the function they exercise\n",
    "is called [test-driven development](reference.html#test-driven-development) (TDD).\n",
    "Its advocates believe it produces better code faster because:\n",
    "\n",
    "1.  If people write tests after writing the thing to be tested,\n",
    "    they are subject to confirmation bias,\n",
    "    i.e.,\n",
    "    they subconsciously write tests to show that their code is correct,\n",
    "    rather than to find errors.\n",
    "2.  Writing tests helps programmers figure out what the function is actually supposed to do.\n",
    "\n",
    "Here are three test functions for `range_overlap`: "
   ]
  },
  {
   "cell_type": "code",
   "execution_count": null,
   "metadata": {
    "collapsed": false
   },
   "outputs": [],
   "source": [
    "assert range_overlap([ (0.0, 1.0) ]) == (0.0, 1.0)\n",
    "assert range_overlap([ (2.0, 3.0), (2.0, 4.0) ]) == (2.0, 3.0)\n",
    "assert range_overlap([ (0.0, 1.0), (0.0, 2.0), (-1.0, 1.0) ]) == (0.0, 1.0)"
   ]
  },
  {
   "cell_type": "markdown",
   "metadata": {},
   "source": [
    "The error is actually reassuring:\n",
    "we haven't written `range_overlap` yet,\n",
    "so if the tests passed,\n",
    "it would be a sign that someone else had\n",
    "and that we were accidentally using their function.\n",
    "\n",
    "And as a bonus of writing these tests,\n",
    "we've implicitly defined what our input and output look like:\n",
    "we expect a list of pairs as input,\n",
    "and produce a single pair as output.\n",
    "\n",
    "Something important is missing, though.\n",
    "We don't have any tests for the case where the ranges don't overlap at all:"
   ]
  },
  {
   "cell_type": "code",
   "execution_count": null,
   "metadata": {
    "collapsed": false
   },
   "outputs": [],
   "source": [
    "assert range_overlap([ (0.0, 1.0), (5.0, 6.0) ]) == ???"
   ]
  },
  {
   "cell_type": "markdown",
   "metadata": {},
   "source": [
    "What should `range_overlap` do in this case:\n",
    "fail with an error message,\n",
    "produce a special value like `(0.0, 0.0)` to signal that there's no overlap,\n",
    "or something else?\n",
    "Any actual implementation of the function will do one of these things;\n",
    "writing the tests first helps us figure out which is best\n",
    "*before* we're emotionally invested in whatever we happened to write\n",
    "before we realized there was an issue.\n",
    "\n",
    "And what about this case?"
   ]
  },
  {
   "cell_type": "code",
   "execution_count": null,
   "metadata": {
    "collapsed": true
   },
   "outputs": [],
   "source": [
    "assert range_overlap([ (0.0, 1.0), (1.0, 2.0) ]) == ???"
   ]
  },
  {
   "cell_type": "markdown",
   "metadata": {},
   "source": [
    "Do two segments that touch at their endpoints overlap or not?\n",
    "Mathematicians usually say \"yes\",\n",
    "but engineers usually say \"no\".\n",
    "The best answer is \"whatever is most useful in the rest of our program\",\n",
    "but again,\n",
    "any actual implementation of `range_overlap` is going to do *something*,\n",
    "and whatever it is ought to be consistent with what it does when there's no overlap at all.\n",
    "\n",
    "Since we're planning to use the range this function returns\n",
    "as the X axis in a time series chart,\n",
    "we decide that:\n",
    "\n",
    "1.  every overlap has to have non-zero width, and\n",
    "2.  we will return the special value `None` when there's no overlap.\n",
    "\n",
    "`None` is built into Python,\n",
    "and means \"nothing here\".\n",
    "(Other languages often call the equivalent value `null` or `nil`).\n",
    "With that decision made,\n",
    "we can finish writing our last two tests:"
   ]
  },
  {
   "cell_type": "code",
   "execution_count": null,
   "metadata": {
    "collapsed": true
   },
   "outputs": [],
   "source": [
    "assert range_overlap([ (0.0, 1.0), (5.0, 6.0) ]) == None\n",
    "assert range_overlap([ (0.0, 1.0), (1.0, 2.0) ]) == None"
   ]
  },
  {
   "cell_type": "markdown",
   "metadata": {},
   "source": [
    "Again,\n",
    "we get an error because we haven't written our function,\n",
    "but we're now ready to do so:"
   ]
  },
  {
   "cell_type": "code",
   "execution_count": null,
   "metadata": {
    "collapsed": true
   },
   "outputs": [],
   "source": [
    "def range_overlap(ranges):\n",
    "    '''Return common overlap among a set of [low, high] ranges.'''\n",
    "    lowest = 0.0\n",
    "    highest = 1.0\n",
    "    for (low, high) in ranges:\n",
    "        lowest = max(lowest, low)\n",
    "        highest = min(highest, high)\n",
    "    return (lowest, highest)"
   ]
  },
  {
   "cell_type": "markdown",
   "metadata": {},
   "source": [
    "(Take a moment to think about why we use `max` to raise `lowest`\n",
    "and `min` to lower `highest`).\n",
    "We'd now like to re-run our tests,\n",
    "but they're scattered across three different cells.\n",
    "To make running them easier,\n",
    "let's put them all in a function:"
   ]
  },
  {
   "cell_type": "code",
   "execution_count": null,
   "metadata": {
    "collapsed": true
   },
   "outputs": [],
   "source": [
    "def test_range_overlap():\n",
    "    assert range_overlap([ (0.0, 1.0), (5.0, 6.0) ]) == None\n",
    "    assert range_overlap([ (0.0, 1.0), (1.0, 2.0) ]) == None\n",
    "    assert range_overlap([ (0.0, 1.0) ]) == (0.0, 1.0)\n",
    "    assert range_overlap([ (2.0, 3.0), (2.0, 4.0) ]) == (2.0, 3.0)\n",
    "    assert range_overlap([ (0.0, 1.0), (0.0, 2.0), (-1.0, 1.0) ]) == (0.0, 1.0)"
   ]
  },
  {
   "cell_type": "markdown",
   "metadata": {},
   "source": [
    "We can now test `range_overlap` with a single function call:"
   ]
  },
  {
   "cell_type": "code",
   "execution_count": null,
   "metadata": {
    "collapsed": false
   },
   "outputs": [],
   "source": [
    "test_range_overlap()"
   ]
  },
  {
   "cell_type": "markdown",
   "metadata": {},
   "source": [
    "The first test that was supposed to produce `None` fails,\n",
    "so we know something is wrong with our function.\n",
    "We *don't* know whether the other tests passed or failed\n",
    "because Python halted the program as soon as it spotted the first error.\n",
    "Still,\n",
    "some information is better than none,\n",
    "and if we trace the behavior of the function with that input,\n",
    "we realize that we're initializing `lowest` and `highest` to 0.0 and 1.0 respectively,\n",
    "regardless of the input values.\n",
    "This violates another important rule of programming:\n",
    "*always initialize from data*.\n",
    "\n",
    "> ## Pre- and post-conditions \n",
    ">\n",
    "> Suppose you are writing a function called `average` that calculates the average of the numbers in a list.\n",
    "> What pre-conditions and post-conditions would you write for it?\n",
    "> Compare your answer to your neighbor's:\n",
    "> can you think of a function that will pass your tests but not hers or vice versa?\n",
    "\n",
    "> ## Testing assertions \n",
    ">\n",
    "> Given a sequence of values, the function `running` returns\n",
    "> a list containing the running totals at each index.\n",
    ">\n",
    "> ~~~\n",
    "> running([1, 2, 3, 4])\n",
    "> ~~~\n",
    ">\n",
    "> ~~~\n",
    "> [1, 3, 6, 10]\n",
    "> ~~~\n",
    ">\n",
    "> ~~~\n",
    "> running('abc')\n",
    "> ~~~\n",
    ">\n",
    "> ~~~\n",
    "> ['a', 'ab', 'abc']\n",
    "> ~~~\n",
    ">\n",
    "> Explain in words what the assertions in this function check,\n",
    "> and for each one,\n",
    "> give an example of input that will make that assertion fail.\n",
    ">"
   ]
  },
  {
   "cell_type": "code",
   "execution_count": null,
   "metadata": {
    "collapsed": true
   },
   "outputs": [],
   "source": [
    "def running(values):\n",
    "    assert len(values) > 0\n",
    "    result = [values[0]]\n",
    "    for v in values[1:]:\n",
    "        assert result[-1] >= 0\n",
    "        result.append(result[-1] + v)\n",
    "        assert result[-1] >= result[0]\n",
    "    return result"
   ]
  },
  {
   "cell_type": "markdown",
   "metadata": {},
   "source": [
    "> ## Fixing and testing \n",
    ">\n",
    "> Fix `range_overlap`. Re-run `test_range_overlap` after each change you make."
   ]
  }
 ],
 "metadata": {
  "kernelspec": {
   "display_name": "Python 3",
   "language": "python",
   "name": "python3"
  },
  "language_info": {
   "codemirror_mode": {
    "name": "ipython",
    "version": 3
   },
   "file_extension": ".py",
   "mimetype": "text/x-python",
   "name": "python",
   "nbconvert_exporter": "python",
   "pygments_lexer": "ipython3",
   "version": "3.5.1"
  }
 },
 "nbformat": 4,
 "nbformat_minor": 0
}
