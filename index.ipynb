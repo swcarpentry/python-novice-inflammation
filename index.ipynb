{
 "cells": [
  {
   "cell_type": "markdown",
   "metadata": {},
   "source": [
    "The best way to learn how to program is to do something useful,\n",
    "so this introduction to Python is built around a common scientific task:\n",
    "data analysis.\n",
    "\n",
    "Our real goal isn't to teach you Python,\n",
    "but to teach you the basic concepts that all programming depends on.\n",
    "We use Python in our lessons because:\n",
    "\n",
    "1.  we have to use *something* for examples;\n",
    "2.  it's free, well-documented, and runs almost everywhere;\n",
    "3.  it has a large (and growing) user base among scientists; and\n",
    "4.  experience shows that it's easier for novices to pick up than most other languages.\n",
    "\n",
    "But the two most important things are\n",
    "to use whatever language your colleagues are using,\n",
    "so that you can share your work with them easily,\n",
    "and to use that language *well*.\n",
    "\n",
    "We are studying inflammation in patients who have been given a new treatment for arthritis,\n",
    "and need to analyze the first dozen data sets of their daily inflammation.\n",
    "The data sets are stored in [comma-separated values](reference.html#comma-separated-values) (CSV) format:\n",
    "each row holds information for a single patient,\n",
    "and the columns represent successive days.\n",
    "The first few rows of our first file look like this:\n",
    "\n",
    "~~~\n",
    "0,0,1,3,1,2,4,7,8,3,3,3,10,5,7,4,7,7,12,18,6,13,11,11,7,7,4,6,8,8,4,4,5,7,3,4,2,3,0,0\n",
    "0,1,2,1,2,1,3,2,2,6,10,11,5,9,4,4,7,16,8,6,18,4,12,5,12,7,11,5,11,3,3,5,4,4,5,5,1,1,0,1\n",
    "0,1,1,3,3,2,6,2,5,9,5,7,4,5,4,15,5,11,9,10,19,14,12,17,7,12,11,7,4,2,10,5,4,2,2,3,2,2,1,1\n",
    "0,0,2,0,4,2,2,1,6,7,10,7,9,13,8,8,15,10,10,7,17,4,4,7,6,15,6,4,9,11,3,5,6,3,3,4,2,3,2,1\n",
    "0,1,1,3,3,1,3,5,2,4,4,7,6,5,3,10,8,10,6,17,9,14,9,7,13,9,12,6,7,7,9,6,3,2,2,4,2,0,1,1\n",
    "~~~\n",
    "\n",
    "We want to:\n",
    "\n",
    "*   load that data into memory,\n",
    "*   calculate the average inflammation per day across all patients, and\n",
    "*   plot the result.\n",
    "\n",
    "To do all that, we'll have to learn a little bit about programming.\n",
    "\n",
    "> ## Prerequisites \n",
    ">\n",
    "> Learners need to understand the concepts of files and directories\n",
    "> (including the working directory) and how to start a Python\n",
    "> interpreter before tackling this lesson. This lesson uses the Jupyter (IPython)\n",
    "> Notebook although it can be taught through any Python interpreter.\n",
    "> The commands in this lesson pertain to **Python 3**.\n",
    "\n",
    "## Jupyter notebooks\n",
    "Jupyter notebooks are combinations of cells containing text (usually in Markdown) and cells containing code. You can edit them dynamically (try double clicking on this cell to edit the text) then see the output by running them with **Ctrl+ENTER** or by clicking the run icon above. Try the cell below - enter the code `1 + 2` then press `CTRL+ENTER` and it will run the code with Python. Feel free during this lesson to edit, modify and run the cells again and again. Any output (text or images) will appear below the cell."
   ]
  },
  {
   "cell_type": "code",
   "execution_count": null,
   "metadata": {
    "collapsed": true
   },
   "outputs": [],
   "source": []
  },
  {
   "cell_type": "markdown",
   "metadata": {},
   "source": [
    "## Topics\n",
    "                                                    \n",
    "For each part of the lesson, click on the `File` tab above and open that particular Jupyter notebook.\n",
    "\n",
    "1.  [Analyzing Patient Data](01-numpy.ipynb)\n",
    "2.  [Repeating Actions with Loops ](02-loop.ipynb)\n",
    "3.  [Storing Multiple Values in Lists ](03-lists.ipynb)\n",
    "4.  [Analyzing Data from Multiple Files ](04-files.ipynb)\n",
    "5.  [Making Choices ](05-cond.ipynb)\n",
    "6.  [Creating Functions ](06-func.ipynb)\n",
    "7.  [Errors and Exceptions ](07-errors.ipynb)\n",
    "8.  [Defensive Programming ](08-defensive.ipynb)\n",
    "9.  [Debugging ](09-debugging.ipynb)\n",
    "10. [Command-Line Programs ](10-cmdline.ipynb)"
   ]
  }
 ],
 "metadata": {
  "kernelspec": {
   "display_name": "Python 3",
   "language": "python",
   "name": "python3"
  },
  "language_info": {
   "codemirror_mode": {
    "name": "ipython",
    "version": 3
   },
   "file_extension": ".py",
   "mimetype": "text/x-python",
   "name": "python",
   "nbconvert_exporter": "python",
   "pygments_lexer": "ipython3",
   "version": "3.5.1"
  }
 },
 "nbformat": 4,
 "nbformat_minor": 0
}
