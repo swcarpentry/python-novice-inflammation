{
 "cells": [
  {
   "cell_type": "markdown",
   "metadata": {},
   "source": [
    "> ## Learning Objectives \n",
    ">\n",
    "> *   To be able to read a traceback, and determine the following relevant pieces of information:\n",
    ">     * The file, function, and line number on which the error occurred\n",
    ">     * The type of the error\n",
    ">     * The error message\n",
    "> *   To be able to describe the types of situations in which the following errors occur:\n",
    ">     * `SyntaxError` and `IndentationError`\n",
    ">     * `NameError`\n",
    ">     * `IndexError`\n",
    ">     * `FileNotFoundError`\n",
    "\n",
    "Every programmer encounters errors,\n",
    "both those who are just beginning,\n",
    "and those who have been programming for years.\n",
    "Encountering errors and exceptions can be very frustrating at times,\n",
    "and can make coding feel like a hopeless endeavour.\n",
    "However,\n",
    "understanding what the different types of errors are\n",
    "and when you are likely to encounter them can help a lot.\n",
    "Once you know *why* you get certain types of errors,\n",
    "they become much easier to fix.\n",
    "\n",
    "Errors in Python have a very specific form,\n",
    "called a [traceback](reference.html#traceback).\n",
    "Let's examine a hypothetical example:"
   ]
  },
  {
   "cell_type": "markdown",
   "metadata": {},
   "source": [
    "~~~\n",
    "import errors_01\n",
    "errors_01.favorite_ice_cream()\n",
    "~~~\n",
    "\n",
    "~~~ \n",
    "---------------------------------------------------------------------------\n",
    "IndexError                                Traceback (most recent call last)\n",
    "<ipython-input-1-9d0462a5b07c> in <module>()\n",
    "      1 import errors_01\n",
    "----> 2 errors_01.favorite_ice_cream()\n",
    "\n",
    "/Users/jhamrick/project/swc/novice/python/errors_01.pyc in favorite_ice_cream()\n",
    "      5         \"strawberry\"\n",
    "      6     ]\n",
    "----> 7     print(ice_creams[3])\n",
    "\n",
    "IndexError: list index out of range\n",
    "~~~\n",
    "This particular traceback has two levels.\n",
    "You can determine the number of levels by looking for the number of arrows on the left hand side.\n",
    "In this case:\n",
    "\n",
    "1.  The first shows code from the cell above,\n",
    "    with an arrow pointing to Line 2 (which is `favorite_ice_cream()`).\n",
    "\n",
    "2.  The second shows some code in another function (`favorite_ice_cream`, located in the file `errors_01.py`),\n",
    "    with an arrow pointing to Line 7 (which is `print(ice_creams[3])`).\n",
    "\n",
    "The last level is the actual place where the error occurred.\n",
    "The other level(s) show what function the program executed to get to the next level down.\n",
    "So, in this case, the program first performed a [function call](reference.html#function-call) to the function `favorite_ice_cream`.\n",
    "Inside this function,\n",
    "the program encountered an error on Line 7, when it tried to run the code `print(ice_creams[3])`.\n",
    "\n",
    "> ## Long Tracebacks \n",
    ">\n",
    "> Sometimes, you might see a traceback that is very long -- sometimes they might even be 20 levels deep!\n",
    "> This can make it seem like something horrible happened,\n",
    "> but really it just means that your program called many functions before it ran into the error.\n",
    "> Most of the time,\n",
    "> you can just pay attention to the bottom-most level,\n",
    "> which is the actual place where the error occurred.\n",
    "\n",
    "So what error did the program actually encounter?\n",
    "In the last line of the traceback,\n",
    "Python helpfully tells us the category or type of error (in this case, it is an `IndexError`)\n",
    "and a more detailed error message (in this case, it says \"list index out of range\").\n",
    "\n",
    "If you encounter an error and don't know what it means,\n",
    "it is still important to read the traceback closely.\n",
    "That way,\n",
    "if you fix the error,\n",
    "but encounter a new one,\n",
    "you can tell that the error changed.\n",
    "Additionally,\n",
    "sometimes just knowing *where* the error occurred is enough to fix it,\n",
    "even if you don't entirely understand the message.\n",
    "\n",
    "If you do encounter an error you don't recognize,\n",
    "try looking at the [official documentation on errors](http://docs.python.org/3/library/exceptions.html).\n",
    "However,\n",
    "note that you may not always be able to find the error there,\n",
    "as it is possible to create custom errors.\n",
    "In that case,\n",
    "hopefully the custom error message is informative enough to help you figure out what went wrong.\n",
    "\n",
    "## Syntax Errors\n",
    "\n",
    "When you forget a colon at the end of a line,\n",
    "accidentally add one space too many when indenting under an `if` statement,\n",
    "or forget a parentheses,\n",
    "you will encounter a [syntax error](reference.html#syntax-error).\n",
    "This means that Python couldn't figure out how to read your program.\n",
    "This is similar to forgetting punctuation in English:\n",
    "\n",
    "> this text is difficult to read there is no punctuation there is also no capitalization\n",
    "> why is this hard because you have to figure out where each sentence ends\n",
    "> you also have to figure out where each sentence begins\n",
    "> to some extent it might be ambiguous if there should be a sentence break or not\n",
    "\n",
    "People can typically figure out what is meant by text with no punctuation,\n",
    "but people are much smarter than computers.\n",
    "If Python doesn't know how to read the program,\n",
    "it will just give up and inform you with an error.\n",
    "For example:"
   ]
  },
  {
   "cell_type": "code",
   "execution_count": null,
   "metadata": {
    "collapsed": false
   },
   "outputs": [],
   "source": [
    "def some_function()\n",
    "    msg = \"hello, world!\"\n",
    "    print(msg)\n",
    "     return msg"
   ]
  },
  {
   "cell_type": "markdown",
   "metadata": {},
   "source": [
    "Here, Python tells us that there is a `SyntaxError` on line 1,\n",
    "and even puts a little arrow in the place where there is an issue.\n",
    "In this case the problem is that the function definition is missing a colon at the end.\n",
    "\n",
    "Actually, the function above has *two* issues with syntax.\n",
    "If we fix the problem with the colon,\n",
    "we see that there is *also* an `IndentationError`,\n",
    "which means that the lines in the function definition do not all have the same indentation:"
   ]
  },
  {
   "cell_type": "code",
   "execution_count": null,
   "metadata": {
    "collapsed": false
   },
   "outputs": [],
   "source": [
    "def some_function():\n",
    "    msg = \"hello, world!\"\n",
    "    print(msg)\n",
    "     return msg"
   ]
  },
  {
   "cell_type": "markdown",
   "metadata": {},
   "source": [
    "Both `SyntaxError` and `IndentationError` indicate a problem with the syntax of your program,\n",
    "but an `IndentationError` is more specific:\n",
    "it *always* means that there is a problem with how your code is indented.\n",
    "\n",
    "> ## Tabs and Spaces\n",
    ">\n",
    "> A quick note on indentation errors:\n",
    "> they can sometimes be insidious,\n",
    "> especially if you are mixing spaces and tabs.\n",
    "> Because they are both [whitespace](reference.html#whitespace),\n",
    "> it is difficult to visually tell the difference.\n",
    "> The IPython notebook actually gives us a bit of a hint,\n",
    "> but not all Python editors will do that.\n",
    "> In the following example,\n",
    "> the first two lines are using a tab for indentation,\n",
    "> while the third line uses four spaces:\n",
    ">\n",
    "> ~~~ \n",
    "> def some_function():\n",
    ">     msg = \"hello, world!\"\n",
    ">     print(msg)\n",
    ">     return msg\n",
    "> ~~~\n",
    "> ~~~ \n",
    ">   File \"<ipython-input-5-653b36fbcd41>\", line 4\n",
    ">     return msg\n",
    ">               ^\n",
    "> IndentationError: unindent does not match any outer indentation level\n",
    "> ~~~\n",
    ">\n",
    "> By default, one tab is equivalent to eight spaces,\n",
    "> so the only way to mix tabs and spaces is to make it look like this.\n",
    "> In general, is is better to just never use tabs and always use spaces,\n",
    "> because it can make things very confusing.\n",
    "\n",
    "## Variable Name Errors\n",
    "\n",
    "Another very common type of error is called a `NameError`,\n",
    "and occurs when you try to use a variable that does not exist.\n",
    "For example:"
   ]
  },
  {
   "cell_type": "code",
   "execution_count": null,
   "metadata": {
    "collapsed": false
   },
   "outputs": [],
   "source": [
    "print(a)"
   ]
  },
  {
   "cell_type": "markdown",
   "metadata": {},
   "source": [
    "Variable name errors come with some of the most informative error messages,\n",
    "which are usually of the form \"name 'the_variable_name' is not defined\".\n",
    "\n",
    "Why does this error message occur?\n",
    "That's harder question to answer,\n",
    "because it depends on what your code is supposed to do.\n",
    "However,\n",
    "there are a few very common reasons why you might have an undefined variable.\n",
    "The first is that you meant to use a [string](reference.html#string), but forgot to put quotes around it:"
   ]
  },
  {
   "cell_type": "code",
   "execution_count": null,
   "metadata": {
    "collapsed": false
   },
   "outputs": [],
   "source": [
    "print(hello)"
   ]
  },
  {
   "cell_type": "markdown",
   "metadata": {},
   "source": [
    "The second is that you just forgot to create the variable before using it.\n",
    "In the following example,\n",
    "`count` should have been defined (e.g., with `count = 0`) before the for loop:"
   ]
  },
  {
   "cell_type": "code",
   "execution_count": null,
   "metadata": {
    "collapsed": false
   },
   "outputs": [],
   "source": [
    "for number in range(10):\n",
    "    count = count + number\n",
    "print(\"The count is: \" + str(count))"
   ]
  },
  {
   "cell_type": "markdown",
   "metadata": {},
   "source": [
    "Finally, the third possibility is that you made a typo when you were writing your code.\n",
    "Let's say we fixed the error above by adding the line `Count = 0` before the for loop.\n",
    "Frustratingly, this actually does not fix the error.\n",
    "Remember that variables are [case-sensitive](reference.html#case-sensitive),\n",
    "so the variable `count` is different from `Count`. We still get the same error, because we still have not defined `count`:"
   ]
  },
  {
   "cell_type": "code",
   "execution_count": null,
   "metadata": {
    "collapsed": false
   },
   "outputs": [],
   "source": [
    "Count = 0\n",
    "for number in range(10):\n",
    "    count = count + number\n",
    "print(\"The count is: \" + str(count))"
   ]
  },
  {
   "cell_type": "markdown",
   "metadata": {},
   "source": [
    "## Item Errors\n",
    "\n",
    "Next up are errors having to do with containers (like lists and dictionaries) and the items within them.\n",
    "If you try to access an item in a list or a dictionary that does not exist,\n",
    "then you will get an error.\n",
    "This makes sense:\n",
    "if you asked someone what day they would like to get coffee,\n",
    "and they answered \"caturday\",\n",
    "you might be a bit annoyed.\n",
    "Python gets similarly annoyed if you try to ask it for an item that doesn't exist:"
   ]
  },
  {
   "cell_type": "code",
   "execution_count": null,
   "metadata": {
    "collapsed": false
   },
   "outputs": [],
   "source": [
    "letters = ['a', 'b', 'c']\n",
    "print(\"Letter #1 is \" + letters[0])\n",
    "print(\"Letter #2 is \" + letters[1])\n",
    "print(\"Letter #3 is \" + letters[2])\n",
    "print(\"Letter #4 is \" + letters[3])"
   ]
  },
  {
   "cell_type": "markdown",
   "metadata": {},
   "source": [
    "Here,\n",
    "Python is telling us that there is an `IndexError` in our code, meaning we tried to access a list index that did not exist.\n",
    "\n",
    "## File Errors\n",
    "\n",
    "The last type of error we'll cover today are those associated with reading and writing files: `FileNotFoundError`.\n",
    "If you try to read a file that does not exist,\n",
    "you will recieve an `FileNotFoundError` telling you so."
   ]
  },
  {
   "cell_type": "code",
   "execution_count": null,
   "metadata": {
    "collapsed": false
   },
   "outputs": [],
   "source": [
    "file_handle = open('myfile.txt', 'r')"
   ]
  },
  {
   "cell_type": "markdown",
   "metadata": {},
   "source": [
    "One reason for receiving this error is that you specified an incorrect path to the file.\n",
    "For example,\n",
    "if I am currently in a folder called `myproject`,\n",
    "and I have a file in `myproject/writing/myfile.txt`,\n",
    "but I try to just open `myfile.txt`,\n",
    "this will fail.\n",
    "The correct path would be `writing/myfile.\n",
    "xt`. It is also possible (like with `NameError`) that you just made a typo.\n",
    "\n",
    "Another issue could be that you used the \"read\" flag instead of the \"write\" flag.\n",
    "Python will not give you an error if you try to open a file for writing when the file does not exist.\n",
    "However,\n",
    "if you meant to open a file for reading,\n",
    "but accidentally opened it for writing,\n",
    "and then try to read from it,\n",
    "you will get an `UnsupportedOperation` error\n",
    "telling you that the file was not opened for reading:"
   ]
  },
  {
   "cell_type": "code",
   "execution_count": null,
   "metadata": {
    "collapsed": false
   },
   "outputs": [],
   "source": [
    "file_handle = open('myfile.txt', 'w')\n",
    "file_handle.read()"
   ]
  },
  {
   "cell_type": "markdown",
   "metadata": {},
   "source": [
    "These are the most common errors with files,\n",
    "though many others exist.\n",
    "If you get an error that you've never seen before,\n",
    "searching the Internet for that error type\n",
    "often reveals common reasons why you might get that error.\n",
    "\n",
    "> ## Reading Error Messages\n",
    ">\n",
    "> Read the traceback below (don't run the code, it won't give the same error as it is purely hypothetical), and identify the following pieces of information about it:\n",
    ">\n",
    "> 1.  How many levels does the traceback have?\n",
    "> 2.  What is the file name where the error occurred?\n",
    "> 3.  What is the function name where the error occurred?\n",
    "> 4.  On which line number in this function did the error occurr?\n",
    "> 5.  What is the type of error?\n",
    "> 6.  What is the error message?\n",
    ">"
   ]
  },
  {
   "cell_type": "code",
   "execution_count": null,
   "metadata": {
    "collapsed": false
   },
   "outputs": [],
   "source": [
    "import errors_02\n",
    "errors_02.print_friday_message()"
   ]
  },
  {
   "cell_type": "markdown",
   "metadata": {},
   "source": [
    "> ~~~ \n",
    "> ---------------------------------------------------------------------------\n",
    "> KeyError                                  Traceback (most recent call last)\n",
    "> <ipython-input-2-e4c4cbafeeb5> in <module>()\n",
    ">       1 import errors_02\n",
    "> ----> 2 errors_02.print_friday_message()\n",
    ">\n",
    "> /Users/jhamrick/project/swc/novice/python/errors_02.py in print_friday_message()\n",
    ">      13\n",
    ">      14 def print_friday_message():\n",
    "> ---> 15     print_message(\"Friday\")\n",
    ">\n",
    "> /Users/jhamrick/project/swc/novice/python/errors_02.py in print_message(day)\n",
    ">       9         \"sunday\": \"Aw, the weekend is almost over.\"\n",
    ">      10     }\n",
    "> ---> 11     print(messages[day])\n",
    ">      12\n",
    ">      13\n",
    ">\n",
    "> KeyError: 'Friday'\n",
    "> ~~~\n",
    "\n",
    "> ## Identifying Syntax Errors \n",
    ">\n",
    "> 1. Read the code below, and (without running it) try to identify what the errors are.\n",
    "> 2. Run the code, and read the error message. Is it a `SyntaxError` or an `IndentationError`?\n",
    "> 3. Fix the error.\n",
    "> 4. Repeat steps 2 and 3, until you have fixed all the errors.\n",
    ">"
   ]
  },
  {
   "cell_type": "code",
   "execution_count": null,
   "metadata": {
    "collapsed": true
   },
   "outputs": [],
   "source": [
    "def another_function\n",
    "  print(\"Syntax errors are annoying.\")\n",
    "   print(\"But at least python tells us about them!\")\n",
    "  print(\"So they are usually not too hard to fix.\")\n"
   ]
  },
  {
   "cell_type": "markdown",
   "metadata": {},
   "source": [
    "> ## Identifying Variable Name Errors \n",
    ">\n",
    "> 1. Read the code below, and (without running it) try to identify what the errors are.\n",
    "> 2. Run the code, and read the error message. What type of `NameError` do you think this is? In other words, is it a string with no quotes, a misspelled variable, or a variable that should have been defined but was not?\n",
    "> 3. Fix the error.\n",
    "> 4. Repeat steps 2 and 3, until you have fixed all the errors."
   ]
  },
  {
   "cell_type": "code",
   "execution_count": null,
   "metadata": {
    "collapsed": true
   },
   "outputs": [],
   "source": [
    "for number in range(10):\n",
    "    # use a if the number is a multiple of 3, otherwise use b\n",
    "    if (Number % 3) == 0:\n",
    "        message = message + a\n",
    "    else:\n",
    "        message = message + \"b\"\n",
    "print(message)"
   ]
  },
  {
   "cell_type": "markdown",
   "metadata": {},
   "source": [
    "> ## Identifying Item Errors \n",
    ">\n",
    "> 1. Read the code below, and (without running it) try to identify what the errors are.\n",
    "> 2. Run the code, and read the error message. What type of error is it?\n",
    "> 3. Fix the error.\n",
    ">"
   ]
  },
  {
   "cell_type": "code",
   "execution_count": null,
   "metadata": {
    "collapsed": true
   },
   "outputs": [],
   "source": [
    "seasons = ['Spring', 'Summer', 'Fall', 'Winter']\n",
    "print('My favorite season is ', seasons[4])\n"
   ]
  }
 ],
 "metadata": {
  "kernelspec": {
   "display_name": "Python 3",
   "language": "python",
   "name": "python3"
  },
  "language_info": {
   "codemirror_mode": {
    "name": "ipython",
    "version": 3
   },
   "file_extension": ".py",
   "mimetype": "text/x-python",
   "name": "python",
   "nbconvert_exporter": "python",
   "pygments_lexer": "ipython3",
   "version": "3.5.1"
  }
 },
 "nbformat": 4,
 "nbformat_minor": 0
}
